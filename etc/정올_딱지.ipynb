{
 "cells": [
  {
   "cell_type": "code",
   "execution_count": null,
   "metadata": {},
   "outputs": [],
   "source": [
    "\"\"\"\n",
    "두 어린이 A, B가 딱지놀이를 한다. 딱 지놀이 규칙은 다음과 같다.\n",
    "\n",
    "두 어린이 는 처음에 여러 장의 딱지를 가지고 있 고, 매 라운드마다 각자 자신이 가진 딱 지 중 하나를 낸다.\n",
    "\n",
    "딱지에는 별(★), 동 그라미(●), 네모(■), 세모(▲), 네 가지 모양 중 하나 이상의 모양이 표시되어 있다.\n",
    "\n",
    "두 어린이가 낸 딱지 중 어느 쪽 이 더 강력한 것인지는 다음 규칙을 따 른다.\n",
    "\n",
    "- 만약 두 딱지의 별의 개수가 다르다 면, 별이 많은 쪽의 딱지가 이긴다.\n",
    "\n",
    "- 별의 개수가 같고 동그라미의 개수 가 다르다면, 동그라미가 많은 쪽의 딱지가 이긴다.\n",
    "\n",
    "- 별, 동그라미의 개수가 각각 같고 네 모의 개수가 다르다면, 네모가 많은 쪽의 딱지가 이긴다.\n",
    "\n",
    "- 별, 동그라미, 네모의 개수가 각각 같고 세모의 개수가 다르다면, 세모 가 많은 쪽의 딱지가 이긴다.\n",
    "\n",
    "- 별, 동그라미, 네모, 세모의 개수가 각각 모두 같다면 무승부이다.\n",
    "\n",
    "예를 들어, 두 어린이 A, B가 낸 딱지 가 다음 그림과 같다고 하자\n",
    "\n",
    "\n",
    "\n",
    "위 규칙을 따르면 A의 딱지는 별 하나를 가지고 있고 B의 딱지는 별이 없으 므로 승자는 A이다.\n",
    "\n",
    "위의 그림이 라운드 1의 상황이었고, 라운드 2, 3, 4, 5의 상황이 아래 표와 같을 때, 라운드 2, 3, 4의 승자는 각각 B, B, A이며, 라운드 5에서는 무승부가 되어 이를 D로 표현 하였다.\n",
    "\n",
    "라운드\tA의 딱지\tB의 딱지\t결과\n",
    "1\t★\t●●■▲\tA\n",
    "2\t■★●■▲\t★●●▲\tB\n",
    "3\t●■▲▲\t■●■▲\tB\n",
    "4\t★●■▲\t★●■\tA\n",
    "5\t★★■●▲\t★■★▲●\tD\n",
    "별, 동그라미, 네모, 세모를 각각 숫자 4, 3, 2, 1로 표현한다.\n",
    "\n",
    "예를 들어, 라운 드 1의 경우 어린이 A가 낸 딱지의 그 림 ★는 4로 표현할 수 있고, 어린이 B 가 낸 딱지의 그림 ●●■▲는 3 3 2 1 로 표현할 수 있다.\n",
    "\n",
    "라운드의 수 N과 두 어린이가 순서대 로 내는 딱지의 정보가 주어졌을 때, 각 라운드별로 딱지놀이의 결과를 구하는 프로그램을 작성하시오\n",
    "\"\"\""
   ]
  },
  {
   "cell_type": "code",
   "execution_count": 7,
   "metadata": {},
   "outputs": [
    {
     "name": "stdout",
     "output_type": "stream",
     "text": [
      "5\n",
      "1 4\n",
      "4 3 3 2 1\n",
      "5 2 4 3 2 1\n",
      "4 4 3 3 1\n",
      "4 3 2 1 1\n",
      "4 2 3 2 1\n",
      "4 4 3 2 1\n",
      "3 4 3 2\n",
      "5 4 4 2 3 1\n",
      "5 4 2 4 1 3\n",
      "A\n",
      "B\n",
      "B\n",
      "A\n",
      "D\n"
     ]
    }
   ],
   "source": [
    "#1st ver. 이게 더 시간은 적더라.\n",
    "\n",
    "def listForm():\n",
    "\n",
    "    roundNum = int(input())\n",
    "\n",
    "    rst = []\n",
    "\n",
    "    for i in range (roundNum):\n",
    "\n",
    "        aShape = input().split()\n",
    "        bShape = input().split()\n",
    "        del aShape[0]\n",
    "        del bShape[0]\n",
    "        \n",
    "        r = \"\"\n",
    "        \n",
    "        if compare(aShape.count(\"4\"),bShape.count(\"4\")) != \"같음\":\n",
    "            r = compare(aShape.count(\"4\"),bShape.count(\"4\"))\n",
    "        else:\n",
    "            if compare(aShape.count(\"3\"),bShape.count(\"3\")) != \"같음\":\n",
    "                r = compare(aShape.count(\"3\"),bShape.count(\"3\"))\n",
    "            else:\n",
    "                if compare(aShape.count(\"2\"),bShape.count(\"2\")) != \"같음\":\n",
    "                    r = compare(aShape.count(\"2\"),bShape.count(\"2\"))\n",
    "                else:\n",
    "                    if compare(aShape.count(\"1\"),bShape.count(\"1\")) != \"같음\":\n",
    "                        r = compare(aShape.count(\"1\"),bShape.count(\"1\"))\n",
    "                    else:\n",
    "                        r = \"D\"\n",
    "            \n",
    "        rst.extend(r)\n",
    "\n",
    "    return rst\n",
    "\n",
    "def compare(a,b):\n",
    "    if a>b :\n",
    "        return \"A\"\n",
    "    elif b>a:\n",
    "        return \"B\"\n",
    "    else :\n",
    "        return \"같음\"\n",
    "\n",
    "    \n",
    "rst = listForm()\n",
    "for 결과 in rst:\n",
    "    print(결과)\n",
    "    \n"
   ]
  },
  {
   "cell_type": "code",
   "execution_count": 12,
   "metadata": {},
   "outputs": [
    {
     "name": "stdout",
     "output_type": "stream",
     "text": [
      "5\n",
      "1 4\n",
      "4 3 3 2 1\n",
      "5 2 4 3 2 1\n",
      "4 4 3 3 1\n",
      "4 3 2 1 1\n",
      "4 2 3 2 1\n",
      "4 4 3 2 1\n",
      "3 4 3 2\n",
      "5 4 4 2 3 1\n",
      "5 4 2 4 1 3\n",
      "A\n",
      "B\n",
      "B\n",
      "A\n",
      "D\n"
     ]
    }
   ],
   "source": [
    "def compare(a,b):\n",
    "    if a>b :\n",
    "        return \"A\"\n",
    "    elif b>a:\n",
    "        return \"B\"\n",
    "    else :\n",
    "        return \"같음\"\n",
    "    \n",
    "roundNum = int(input())\n",
    "rst = []\n",
    "for i in range (roundNum):\n",
    "    r = \"\"\n",
    "    aShape = list(map(int, input().strip().split()))\n",
    "    bShape = list(map(int, input().strip().split()))\n",
    "    del aShape[0]\n",
    "    del bShape[0]\n",
    "\n",
    "    j = 4\n",
    "    while j > 0:\n",
    "        if compare(aShape.count(j),bShape.count(j)) != \"같음\":\n",
    "            r = compare(aShape.count(j),bShape.count(j))\n",
    "            break\n",
    "        else :\n",
    "            j-=1\n",
    "            if j == 0:\n",
    "                r = \"D\"\n",
    "                \n",
    "    rst.extend(r)\n",
    "\n",
    "for 결과 in rst:\n",
    "    print(결과)\n",
    "    \n"
   ]
  },
  {
   "cell_type": "code",
   "execution_count": 8,
   "metadata": {},
   "outputs": [
    {
     "name": "stdout",
     "output_type": "stream",
     "text": [
      "3 2 1\n",
      "[3, 2, 1]\n",
      "<class 'int'>\n"
     ]
    }
   ],
   "source": [
    "\n",
    "a = \n",
    "print(a)\n",
    "print(type(a[0]))\n"
   ]
  },
  {
   "cell_type": "code",
   "execution_count": null,
   "metadata": {},
   "outputs": [],
   "source": []
  }
 ],
 "metadata": {
  "kernelspec": {
   "display_name": "Python 3",
   "language": "python",
   "name": "python3"
  },
  "language_info": {
   "codemirror_mode": {
    "name": "ipython",
    "version": 3
   },
   "file_extension": ".py",
   "mimetype": "text/x-python",
   "name": "python",
   "nbconvert_exporter": "python",
   "pygments_lexer": "ipython3",
   "version": "3.8.3rc1"
  }
 },
 "nbformat": 4,
 "nbformat_minor": 4
}
