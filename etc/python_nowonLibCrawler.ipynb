{
 "cells": [
  {
   "cell_type": "code",
   "execution_count": 4,
   "metadata": {},
   "outputs": [],
   "source": [
    "import requests\n",
    "from bs4 import BeautifulSoup as bs\n",
    "import pandas as pd\n",
    "import random as r"
   ]
  },
  {
   "cell_type": "code",
   "execution_count": 24,
   "metadata": {},
   "outputs": [],
   "source": [
    "def 신간_도서_긁기(n): #n은 페이지.\n",
    "    i = 1\n",
    "    title_list = []\n",
    "    for i in range(n+1):\n",
    "        req = requests.get(\"https://www.nowonlib.kr/newarrival?pn=\" + str(i))\n",
    "        html = req.text\n",
    "        soup = bs(html, 'html.parser')\n",
    "        for tag in soup.select(\"dd.title > a\"):\n",
    "            title_list.append(tag.text)\n",
    "    return title_list\n",
    " \n",
    "def 책_번호_생성하기(total_book_number):\n",
    "    bookNumList = []\n",
    "\n",
    "    while len(bookNumList)!=total_book_number:\n",
    "        bookNum = r.randrange(1,10000)\n",
    "        if bookNum not in bookNumList:\n",
    "            bookNumList.append(bookNum)\n",
    "            \n",
    "    return bookNumList\n",
    "\n",
    "\n",
    "book_list = 신간_도서_긁기(5)\n",
    "bookNumList = 책_번호_생성하기(len(book_list))\n",
    "\n",
    "f = open(\"C:/대용/컴퓨터공부/cs_portfolio/노원정보도서관_크롤러/forLib.txt\",'w')\n",
    "\n",
    "for i in range(len(book_list)):\n",
    "    f.write(\"%d//\"%bookNumList[i])\n",
    "    f.write(book_list[i])\n",
    "    f.write(\"\\n\")\n",
    "f.close()\n",
    "\n",
    "#item_CATLAZ000001272198 > dl > dd.title > a"
   ]
  },
  {
   "cell_type": "code",
   "execution_count": 19,
   "metadata": {},
   "outputs": [
    {
     "name": "stdout",
     "output_type": "stream",
     "text": [
      "[0, 1, 2, 3, 4, 5, 6, 7, 8, 9]\n"
     ]
    }
   ],
   "source": [
    "\n",
    "\n"
   ]
  },
  {
   "cell_type": "code",
   "execution_count": null,
   "metadata": {},
   "outputs": [],
   "source": []
  }
 ],
 "metadata": {
  "kernelspec": {
   "display_name": "Python 3",
   "language": "python",
   "name": "python3"
  },
  "language_info": {
   "codemirror_mode": {
    "name": "ipython",
    "version": 3
   },
   "file_extension": ".py",
   "mimetype": "text/x-python",
   "name": "python",
   "nbconvert_exporter": "python",
   "pygments_lexer": "ipython3",
   "version": "3.8.3rc1"
  }
 },
 "nbformat": 4,
 "nbformat_minor": 4
}
