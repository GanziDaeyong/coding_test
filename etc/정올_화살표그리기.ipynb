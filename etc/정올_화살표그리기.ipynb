{
 "cells": [
  {
   "cell_type": "code",
   "execution_count": 9,
   "metadata": {},
   "outputs": [
    {
     "name": "stdout",
     "output_type": "stream",
     "text": [
      "9\n",
      "10 2\n",
      "11 3\n",
      "20 2\n",
      "22 1\n",
      "25 1\n",
      "0 1\n",
      "4 2\n",
      "5 2\n",
      "7 2\n",
      "45\n"
     ]
    }
   ],
   "source": [
    "\"\"\"\n",
    "직선위에 N개의 점들이 주어지고 각 점은 N개의 색깔 중 하나를 가진다. 편의상, 색깔은 1부터 N까지의 수로 표시하고, 점들의 좌표는 모두 다르다.\n",
    "\n",
    "각 점 p에 대해서, p에서 시작하는 직선 화살표를 이용해서 다른 점 q에 연결하려고 한다. 여기서, 점 q는 p와 같은 색깔의 점들 중 p와 거리가 가장 가까운 점이어야 한다. 만약, 가장 가까운 점이 두 개 이상이면 아무거나 하나를 선택한다.\n",
    "\n",
    "각 점 p에서 시작하여 위 조건을 만족하는 q로 가는 하나의 화살표 lp→를 그린다. 특별히 점 p에 대해서 수평선상에 같은 색깔의 다른 점이 없다면 |lp→|=0. 여기서 |lp→|는 화살표 lp→의 길이를 나타낸다.\n",
    "\n",
    "예를 들어, 점들을 순서쌍 (좌표, 색깔)로 표기할 때, p1=(0,1), p2=(1,2), p3=(3,1), p4=(4,1)라고 하자. 점 p1의 화살표 lp1→은 p1→p3로 연결된다. 점 p3과 p4의 화살표 lp3→와 lp4→는 각각 p3→p4와 p4→p3로 연결된다. 점 p2의 경우는 같은 색깔의 다른 점이 존재하지 않는다. 따라서 모든 화살표들의 길이 합은 |lp1→|+|lp2→|+|lp3→|+|lp4→|=3+0+1+1=5이다.\n",
    "\n",
    "점들의 좌표와 색깔이 주어질 때, 모든 점에서 시작하는 화살표들의 길이 합, 다시 말해서 ∑p|lp→|을 출력하는 프로그램을 작성하시오.\n",
    "\"\"\"\n",
    "\n",
    "totalNum = int(input())\n",
    "arr = []\n",
    "for i in range (totalNum):\n",
    "    points = list(map(int, input().split()))\n",
    "    arr.append(points)\n",
    "\n",
    "b4 = [comp[1] for comp in arr]\n",
    "remove = set(b4)\n",
    "allCol = list(remove)\n",
    "\n",
    "loc = []\n",
    "rst = 0\n",
    "for 요소 in allCol:\n",
    "    perLoc = []\n",
    "    [perLoc.append(comp[0]) for comp in arr if comp[1] == 요소]\n",
    "    if len(perLoc) >= 2:\n",
    "        for i in range(len(perLoc)):\n",
    "            tempL = [comp for comp in perLoc if comp != perLoc[i]]\n",
    "            clost = min(tempL, key = lambda x : abs(x-perLoc[i]))\n",
    "            rst += abs(clost-perLoc[i])\n",
    "\n",
    "print(rst)\n",
    "\n",
    "\n",
    "\n"
   ]
  }
 ],
 "metadata": {
  "kernelspec": {
   "display_name": "Python 3",
   "language": "python",
   "name": "python3"
  },
  "language_info": {
   "codemirror_mode": {
    "name": "ipython",
    "version": 3
   },
   "file_extension": ".py",
   "mimetype": "text/x-python",
   "name": "python",
   "nbconvert_exporter": "python",
   "pygments_lexer": "ipython3",
   "version": "3.8.3rc1"
  }
 },
 "nbformat": 4,
 "nbformat_minor": 4
}
